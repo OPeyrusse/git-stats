{
 "cells": [
  {
   "cell_type": "code",
   "execution_count": 1,
   "id": "5cf27699-b920-472c-8969-3b4b1e68ae5b",
   "metadata": {},
   "outputs": [],
   "source": [
    "import atoti as tt\n",
    "from pathlib import Path"
   ]
  },
  {
   "cell_type": "code",
   "execution_count": 2,
   "id": "4aab34e1-3747-45e5-860f-535759925d09",
   "metadata": {},
   "outputs": [],
   "source": [
    "session = tt.Session.start()"
   ]
  },
  {
   "cell_type": "code",
   "execution_count": 3,
   "id": "1c1043bc-4e03-45dd-a57e-72b151502bc2",
   "metadata": {},
   "outputs": [],
   "source": [
    "data_source = \"/home/olivier/projects/activeviam/gits/git-stats/target/files\""
   ]
  },
  {
   "cell_type": "code",
   "execution_count": 4,
   "id": "c98c38ca-bdf5-4520-b55f-8f5351c12ebf",
   "metadata": {},
   "outputs": [],
   "source": [
    "commit_table = session.read_parquet(\n",
    "    Path(data_source) / \"commits-*.parquet\",\n",
    "    table_name=\"commits\")"
   ]
  },
  {
   "cell_type": "code",
   "execution_count": 5,
   "id": "dd8edf94-550c-44cb-bdbf-9a75f8f49a79",
   "metadata": {},
   "outputs": [],
   "source": [
    "branch_table = session.read_parquet(\n",
    "    Path(data_source) / \"branch-*.parquet\",\n",
    "    table_name=\"branch\",\n",
    "    keys={\"commit\", \"branch\"})"
   ]
  },
  {
   "cell_type": "code",
   "execution_count": 6,
   "id": "92f226a1-2d10-4507-80f5-1acbcf0494e2",
   "metadata": {},
   "outputs": [],
   "source": [
    "change_table = session.read_parquet(\n",
    "    Path(data_source) / \"changes-*.parquet\",\n",
    "    table_name=\"changes\",\n",
    "    keys={\"commit\", \"path\"})"
   ]
  },
  {
   "cell_type": "code",
   "execution_count": 7,
   "id": "301bb6a8-1b83-431a-a19c-433cd9689e8c",
   "metadata": {},
   "outputs": [],
   "source": [
    "renaming_table = session.read_parquet(\n",
    "    Path(data_source) / \"renaming-*.parquet\",\n",
    "    table_name=\"renamings\",\n",
    "    keys={\"commit\", \"timestamp\", \"before\", \"after\"}\n",
    ")"
   ]
  },
  {
   "cell_type": "code",
   "execution_count": 14,
   "id": "0973918c-988b-4dc8-b7a9-3332fa83c872",
   "metadata": {
    "scrolled": true
   },
   "outputs": [
    {
     "data": {
      "text/markdown": [
       "```mermaid\n",
       "erDiagram\n",
       "  \"commits\" {\n",
       "    non-null String \"commit\"\n",
       "    nullable long \"timestamp\"\n",
       "  }\n",
       "  \"branch\" {\n",
       "    non-null String PK \"branch\"\n",
       "    non-null String PK \"commit\"\n",
       "  }\n",
       "  \"changes\" {\n",
       "    non-null String PK \"commit\"\n",
       "    non-null String \"module\"\n",
       "    non-null String \"filename\"\n",
       "    non-null String PK \"path\"\n",
       "    nullable long \"additions\"\n",
       "    nullable long \"deletions\"\n",
       "  }\n",
       "  \"renamings\" {\n",
       "    non-null String PK \"commit\"\n",
       "    non-null long PK \"timestamp\"\n",
       "    non-null String PK \"before\"\n",
       "    non-null String PK \"after\"\n",
       "  }\n",
       "  \"commits\" }o..o{ \"branch\" : \"commit == commit\"\n",
       "  \"changes\" }o--o| \"commits\" : \"commit == commit\"\n",
       "  \"changes\" }o..o{ \"renamings\" : \"(commit == commit) & (path == after)\"\n",
       "```\n"
      ],
      "text/plain": [
       "erDiagram\n",
       "  \"commits\" {\n",
       "    non-null String \"commit\"\n",
       "    nullable long \"timestamp\"\n",
       "  }\n",
       "  \"branch\" {\n",
       "    non-null String PK \"branch\"\n",
       "    non-null String PK \"commit\"\n",
       "  }\n",
       "  \"changes\" {\n",
       "    non-null String PK \"commit\"\n",
       "    non-null String \"module\"\n",
       "    non-null String \"filename\"\n",
       "    non-null String PK \"path\"\n",
       "    nullable long \"additions\"\n",
       "    nullable long \"deletions\"\n",
       "  }\n",
       "  \"renamings\" {\n",
       "    non-null String PK \"commit\"\n",
       "    non-null long PK \"timestamp\"\n",
       "    non-null String PK \"before\"\n",
       "    non-null String PK \"after\"\n",
       "  }\n",
       "  \"commits\" }o..o{ \"branch\" : \"commit == commit\"\n",
       "  \"changes\" }o--o| \"commits\" : \"commit == commit\"\n",
       "  \"changes\" }o..o{ \"renamings\" : \"(commit == commit) & (path == after)\""
      ]
     },
     "execution_count": 14,
     "metadata": {},
     "output_type": "execute_result"
    }
   ],
   "source": [
    "session.tables.schema"
   ]
  },
  {
   "cell_type": "code",
   "execution_count": 9,
   "id": "7baad48b-0f66-4074-aa1a-449147d00a39",
   "metadata": {},
   "outputs": [
    {
     "data": {
      "text/html": [
       "<div>\n",
       "<style scoped>\n",
       "    .dataframe tbody tr th:only-of-type {\n",
       "        vertical-align: middle;\n",
       "    }\n",
       "\n",
       "    .dataframe tbody tr th {\n",
       "        vertical-align: top;\n",
       "    }\n",
       "\n",
       "    .dataframe thead th {\n",
       "        text-align: right;\n",
       "    }\n",
       "</style>\n",
       "<table border=\"1\" class=\"dataframe\">\n",
       "  <thead>\n",
       "    <tr style=\"text-align: right;\">\n",
       "      <th></th>\n",
       "      <th></th>\n",
       "      <th>module</th>\n",
       "      <th>filename</th>\n",
       "      <th>additions</th>\n",
       "      <th>deletions</th>\n",
       "    </tr>\n",
       "    <tr>\n",
       "      <th>commit</th>\n",
       "      <th>path</th>\n",
       "      <th></th>\n",
       "      <th></th>\n",
       "      <th></th>\n",
       "      <th></th>\n",
       "    </tr>\n",
       "  </thead>\n",
       "  <tbody>\n",
       "    <tr>\n",
       "      <th>65bef2269cf7e526f9bcde4fbebe0c64c36964c7</th>\n",
       "      <th>database/clickhouse/src/main/java/com/activeviam/database/clickhouse/private_/query/ClickhouseExecutableQueryBuilder.java</th>\n",
       "      <td>database/clickhouse</td>\n",
       "      <td>ClickhouseExecutableQueryBuilder.java</td>\n",
       "      <td>32</td>\n",
       "      <td>11</td>\n",
       "    </tr>\n",
       "    <tr>\n",
       "      <th>ea34b34fd65f336be93cb9a26099cc575c1a5d79</th>\n",
       "      <th>pivot-server/sql-bridge/src/test/java/com/activeviam/activepivot/server/sql/internal/TestPowerBiDiscovery.java</th>\n",
       "      <td>pivot-server/sql-bridge</td>\n",
       "      <td>TestPowerBiDiscovery.java</td>\n",
       "      <td>77</td>\n",
       "      <td>0</td>\n",
       "    </tr>\n",
       "    <tr>\n",
       "      <th>65bef2269cf7e526f9bcde4fbebe0c64c36964c7</th>\n",
       "      <th>database/clickhouse/src/test/java/com/activeviam/database/clickhouse/private_/query/TestClickhouseV21SqlJoinCompiler.java</th>\n",
       "      <td>database/clickhouse</td>\n",
       "      <td>TestClickhouseV21SqlJoinCompiler.java</td>\n",
       "      <td>3</td>\n",
       "      <td>1</td>\n",
       "    </tr>\n",
       "    <tr>\n",
       "      <th>215f62650e7449ac3ce30d490354ced6d7e96a5d</th>\n",
       "      <th>pivot-server/spring/src/test/java/com/quartetfs/biz/jettyserver/DatastoreRestServicesConfigWithAuthForTest.java</th>\n",
       "      <td>pivot-server/spring</td>\n",
       "      <td>DatastoreRestServicesConfigWithAuthForTest.java</td>\n",
       "      <td>35</td>\n",
       "      <td>0</td>\n",
       "    </tr>\n",
       "    <tr>\n",
       "      <th>fe870a2b49f64b96f12fa7f107a3354f872fe38d</th>\n",
       "      <th>datastore/core/src/main/java/com/qfs/store/query/impl/CompiledStoreSearch.java</th>\n",
       "      <td>datastore/core</td>\n",
       "      <td>CompiledStoreSearch.java</td>\n",
       "      <td>1</td>\n",
       "      <td>1</td>\n",
       "    </tr>\n",
       "  </tbody>\n",
       "</table>\n",
       "</div>"
      ],
      "text/plain": [
       "                                                                                                              module  \\\n",
       "commit                                   path                                                                          \n",
       "65bef2269cf7e526f9bcde4fbebe0c64c36964c7 database/clickhouse/src/main/java/com/activevia...      database/clickhouse   \n",
       "ea34b34fd65f336be93cb9a26099cc575c1a5d79 pivot-server/sql-bridge/src/test/java/com/activ...  pivot-server/sql-bridge   \n",
       "65bef2269cf7e526f9bcde4fbebe0c64c36964c7 database/clickhouse/src/test/java/com/activevia...      database/clickhouse   \n",
       "215f62650e7449ac3ce30d490354ced6d7e96a5d pivot-server/spring/src/test/java/com/quartetfs...      pivot-server/spring   \n",
       "fe870a2b49f64b96f12fa7f107a3354f872fe38d datastore/core/src/main/java/com/qfs/store/quer...           datastore/core   \n",
       "\n",
       "                                                                                                                                    filename  \\\n",
       "commit                                   path                                                                                                  \n",
       "65bef2269cf7e526f9bcde4fbebe0c64c36964c7 database/clickhouse/src/main/java/com/activevia...            ClickhouseExecutableQueryBuilder.java   \n",
       "ea34b34fd65f336be93cb9a26099cc575c1a5d79 pivot-server/sql-bridge/src/test/java/com/activ...                        TestPowerBiDiscovery.java   \n",
       "65bef2269cf7e526f9bcde4fbebe0c64c36964c7 database/clickhouse/src/test/java/com/activevia...            TestClickhouseV21SqlJoinCompiler.java   \n",
       "215f62650e7449ac3ce30d490354ced6d7e96a5d pivot-server/spring/src/test/java/com/quartetfs...  DatastoreRestServicesConfigWithAuthForTest.java   \n",
       "fe870a2b49f64b96f12fa7f107a3354f872fe38d datastore/core/src/main/java/com/qfs/store/quer...                         CompiledStoreSearch.java   \n",
       "\n",
       "                                                                                             additions  \\\n",
       "commit                                   path                                                            \n",
       "65bef2269cf7e526f9bcde4fbebe0c64c36964c7 database/clickhouse/src/main/java/com/activevia...         32   \n",
       "ea34b34fd65f336be93cb9a26099cc575c1a5d79 pivot-server/sql-bridge/src/test/java/com/activ...         77   \n",
       "65bef2269cf7e526f9bcde4fbebe0c64c36964c7 database/clickhouse/src/test/java/com/activevia...          3   \n",
       "215f62650e7449ac3ce30d490354ced6d7e96a5d pivot-server/spring/src/test/java/com/quartetfs...         35   \n",
       "fe870a2b49f64b96f12fa7f107a3354f872fe38d datastore/core/src/main/java/com/qfs/store/quer...          1   \n",
       "\n",
       "                                                                                             deletions  \n",
       "commit                                   path                                                           \n",
       "65bef2269cf7e526f9bcde4fbebe0c64c36964c7 database/clickhouse/src/main/java/com/activevia...         11  \n",
       "ea34b34fd65f336be93cb9a26099cc575c1a5d79 pivot-server/sql-bridge/src/test/java/com/activ...          0  \n",
       "65bef2269cf7e526f9bcde4fbebe0c64c36964c7 database/clickhouse/src/test/java/com/activevia...          1  \n",
       "215f62650e7449ac3ce30d490354ced6d7e96a5d pivot-server/spring/src/test/java/com/quartetfs...          0  \n",
       "fe870a2b49f64b96f12fa7f107a3354f872fe38d datastore/core/src/main/java/com/qfs/store/quer...          1  "
      ]
     },
     "execution_count": 9,
     "metadata": {},
     "output_type": "execute_result"
    }
   ],
   "source": [
    "change_table.head()"
   ]
  },
  {
   "cell_type": "code",
   "execution_count": 10,
   "id": "3aa99762-86e5-4d90-a7e2-b71114ac292c",
   "metadata": {},
   "outputs": [
    {
     "data": {
      "text/plain": [
       "9985"
      ]
     },
     "execution_count": 10,
     "metadata": {},
     "output_type": "execute_result"
    }
   ],
   "source": [
    "commit_table.row_count"
   ]
  },
  {
   "cell_type": "code",
   "execution_count": 11,
   "id": "ef26bcba-7177-47de-9b31-d9895fd49bca",
   "metadata": {},
   "outputs": [],
   "source": [
    "commit_table.join(branch_table, commit_table[\"commit\"] == branch_table[\"commit\"])"
   ]
  },
  {
   "cell_type": "code",
   "execution_count": 12,
   "id": "0537c83e-04fe-45a8-bae1-eb4592677a67",
   "metadata": {},
   "outputs": [],
   "source": [
    "change_table.join(commit_table, change_table[\"commit\"] == commit_table[\"commit\"])"
   ]
  },
  {
   "cell_type": "code",
   "execution_count": 13,
   "id": "b32cfb74-f448-4580-b11f-4947f2cbcd58",
   "metadata": {},
   "outputs": [],
   "source": [
    "change_table.join(renaming_table, (change_table[\"commit\"] == renaming_table[\"commit\"]) & (change_table[\"path\"] == renaming_table[\"after\"]))"
   ]
  },
  {
   "cell_type": "code",
   "execution_count": 15,
   "id": "eeb33197-8611-42f3-9523-5e1dfb0f6cb5",
   "metadata": {},
   "outputs": [],
   "source": [
    "cube = session.create_cube(name=\"git\", fact_table=change_table)"
   ]
  },
  {
   "cell_type": "code",
   "execution_count": 16,
   "id": "649e8122-f2be-4b94-bd14-458d1b4449dc",
   "metadata": {},
   "outputs": [
    {
     "data": {
      "text/plain": [
       "'http://localhost:33501'"
      ]
     },
     "execution_count": 16,
     "metadata": {},
     "output_type": "execute_result"
    }
   ],
   "source": [
    "session.url\n"
   ]
  },
  {
   "cell_type": "code",
   "execution_count": null,
   "id": "034cb148-cd4a-4bf5-b6b1-9b5962adb183",
   "metadata": {},
   "outputs": [],
   "source": []
  }
 ],
 "metadata": {
  "kernelspec": {
   "display_name": "Python 3 (ipykernel)",
   "language": "python",
   "name": "python3"
  },
  "language_info": {
   "codemirror_mode": {
    "name": "ipython",
    "version": 3
   },
   "file_extension": ".py",
   "mimetype": "text/x-python",
   "name": "python",
   "nbconvert_exporter": "python",
   "pygments_lexer": "ipython3",
   "version": "3.11.12"
  }
 },
 "nbformat": 4,
 "nbformat_minor": 5
}
